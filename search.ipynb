{
 "cells": [
  {
   "cell_type": "code",
   "execution_count": 1,
   "id": "ee4f0103-2b1d-47d1-8613-1740f63c1d00",
   "metadata": {},
   "outputs": [],
   "source": [
    "# Importo librerias\n",
    "from google_search import GoogleSearch\n",
    "import os\n",
    "from dotenv import load_dotenv"
   ]
  },
  {
   "cell_type": "code",
   "execution_count": 2,
   "id": "db07d915-7dbf-4b88-8598-fc1f1bc84015",
   "metadata": {},
   "outputs": [],
   "source": [
    "# Cargo el environment y variables\n",
    "\n",
    "load_dotenv()\n",
    "\n",
    "GOOGLE_API_KEY = os.getenv(\"GOOGLE_API_KEY\", None)\n",
    "GOOGLE_SEARCH_ENGINE_ID = os.getenv(\"GOOGLE_SEARCH_ENGINE_ID\", None)"
   ]
  },
  {
   "cell_type": "code",
   "execution_count": 3,
   "id": "c6bf50dd-265e-4ad0-892a-abab4ec0aabc",
   "metadata": {},
   "outputs": [],
   "source": [
    "lang = \"lang_es\"\n",
    "init_page = 1\n",
    "querys = [\n",
    "    'intitle:\"index of\" (blueprints OR \"technical drawings\") ext:pdf OR ext:dwg OR ext:doc',\n",
    "    '\"blueprint\" OR \"invention design\" ext:pdf OR ext:dwg',\n",
    "    'intitle:\"index of\" \"database\" ext:sql OR ext:db OR ext:csv',\n",
    "    'filetype:sql OR filetype:csv OR filetype:db inurl:\"/backup/\" OR inurl:\"/db/\"',\n",
    "    'filetype:pdf \"invention\" OR \"patent\" OR \"technical drawings\"',\n",
    "    'filetype:pdf (\"blueprint\" OR \"patent\" OR \"invention\")',\n",
    "    'intitle:\"index of\" \"documentary\" ext:mp4 OR ext:avi OR ext:mkv OR ext:mov',\n",
    "    'intitle:\"index of\" \"documentary\" OR \"documentaries\" (ext:mp4 OR ext:avi OR ext:mkv OR ext:mov)',\n",
    "    'intitle:\"index of\" \"ebooks\" OR \"books\" ext:pdf OR ext:epub OR ext:mobi',\n",
    "    'filetype:pdf \"inventions\" OR \"design\" OR \"technical manual\"',\n",
    "    'intitle:\"index of\" \"ftp\" (blueprints OR inventions OR databases) ext:sql OR ext:pdf OR ext:db'\n",
    "]\n"
   ]
  },
  {
   "cell_type": "code",
   "execution_count": 6,
   "id": "98eb662d-6137-4782-9b6f-75d0774f8ab1",
   "metadata": {},
   "outputs": [
    {
     "name": "stdout",
     "output_type": "stream",
     "text": [
      "{'kind': 'customsearch#result', 'title': 'Subject Index of House and Senate Bills, Resolutions, and Memorials', 'htmlTitle': 'Subject <b>Index of</b> House and Senate Bills, Resolutions, and Memorials', 'link': 'https://www.myfloridahouse.gov/FileStores/Adhoc/Journals/data/session/2000/subind.pdf', 'displayLink': 'www.myfloridahouse.gov', 'snippet': 'Joint Underwriting Plans See: Joint Underwriting Plans, this heading ... Educational facilities, blueprints, S1002. Ethics Code violations, S1110.', 'htmlSnippet': 'Joint Underwriting <b>Plans</b> See: Joint Underwriting <b>Plans</b>, this heading ... Educational facilities, <b>blueprints</b>, S1002. Ethics Code violations, S1110.', 'formattedUrl': 'https://www.myfloridahouse.gov/FileStores/Adhoc/Journals/.../subind.pdf', 'htmlFormattedUrl': 'https://www.myfloridahouse.gov/FileStores/Adhoc/Journals/.../subind.pdf', 'pagemap': {'cse_thumbnail': [{'src': 'https://encrypted-tbn0.gstatic.com/images?q=tbn:ANd9GcRcXRsKmW_7Pwz3UlG-GkW6EZTr8Wqu-pElz2T8HcBNbszEm-paJWpHF0Dk&s', 'width': '197', 'height': '255'}], 'metatags': [{'moddate': \"D:20001006121454-04'00'\", 'creationdate': 'Wednesday October 4, 2000 13:21:12', 'creator': 'VERSACOMP R05.0', 'producer': 'COMPOSER_F5.55'}], 'cse_image': [{'src': 'x-raw-image:///3fd5ac6c06df1aa5c92d96841ef25bd170a59102e43e7dc28e95284c7e81e0dc'}]}, 'mime': 'application/pdf', 'fileFormat': 'PDF/Adobe Acrobat'}\n",
      "\n",
      "\n",
      "{'kind': 'customsearch#result', 'title': 'An Index of Risk as a Measure of Biodiversity Conservation ...', 'htmlTitle': 'An <b>Index of</b> Risk as a Measure of Biodiversity Conservation ...', 'link': 'https://www.jstor.org/stable/20183344', 'displayLink': 'www.jstor.org', 'snippet': 'network blueprints may be counterproductive. Thus, a simple decision-support tool, such as our index of risk of biodiversity loss, might be more effective\\xa0...', 'htmlSnippet': 'network <b>blueprints</b> may be counterproductive. Thus, a simple decision-support tool, such as our index of risk of biodiversity loss, might be more effective&nbsp;...', 'formattedUrl': 'https://www.jstor.org/stable/20183344', 'htmlFormattedUrl': 'https://www.jstor.org/stable/20183344', 'pagemap': {'cse_thumbnail': [{'src': 'https://encrypted-tbn0.gstatic.com/images?q=tbn:ANd9GcR8Kns5Fshn3UnQhYDggdDeYNkA1yXe7NEd7OzYhj1xzPqgTd-5EAod5Pzf&s', 'width': '261', 'height': '193'}], 'metatags': [{'moddate': 'D:20160731033849Z', 'creator': 'page2pdf-2.1', 'creationdate': 'D:20160731033849Z', 'producer': 'iText® 5.5.8 ©2000-2015 iText Group NV (AGPL-version)', 'title': 'An Index of Risk as a Measure of Biodiversity Conservation Achieved through Land Reform'}], 'cse_image': [{'src': 'x-raw-image:///b08baa20f2497863bd306bc463f551fb1fed8c45b3990882673e5fc48904a3e7'}]}}\n",
      "\n",
      "\n",
      "{'kind': 'customsearch#result', 'title': 'Index of /download/mills story', 'htmlTitle': '<b>Index of</b> /download/mills story', 'link': 'https://rwatts.cdyn.com/download/mills%20story/Mills%20Story.pdf', 'displayLink': 'rwatts.cdyn.com', 'snippet': 'A night fire destroyed the entire factory, including blueprints and engineering plans of many future machines, plus a great deal of prefabricated work on\\xa0...', 'htmlSnippet': 'A night fire destroyed the entire factory, including <b>blueprints</b> and engineering <b>plans</b> of many future machines, plus a great deal of prefabricated work on&nbsp;...', 'formattedUrl': 'https://rwatts.cdyn.com/download/mills%20story/Mills%20Story.pdf', 'htmlFormattedUrl': 'https://rwatts.cdyn.com/download/mills%20story/Mills%20Story.pdf', 'pagemap': {'metatags': [{'moddate': 'Thu Sep 25 16:41:11 2003', 'creationdate': 'Thu Sep 25 21:26:19 2003', 'producer': 'Acrobat Web Capture 5.0'}]}, 'mime': 'application/pdf', 'fileFormat': 'PDF/Adobe Acrobat'}\n",
      "\n",
      "\n",
      "{'kind': 'customsearch#result', 'title': 'INDEX OF ACTS RELATED TO COUNTY GOVERNMENT 2007 ...', 'htmlTitle': '<b>INDEX OF</b> ACTS RELATED TO COUNTY GOVERNMENT 2007 ...', 'link': 'https://www.ctas.tennessee.edu/sites/default/files/2007%20Index%20of%20Acts.pdf', 'displayLink': 'www.ctas.tennessee.edu', 'snippet': 'Jul 13, 2007 ... enforcement officials have access to floor plans, blueprints, schematics or other maps of the school interior, school grounds and road maps\\xa0...', 'htmlSnippet': 'Jul 13, 2007 <b>...</b> enforcement officials have access to floor <b>plans</b>, <b>blueprints</b>, schematics or other maps of the school interior, school grounds and road maps&nbsp;...', 'formattedUrl': 'https://www.ctas.tennessee.edu/sites/.../2007%20Index%20of%20Acts.pdf', 'htmlFormattedUrl': 'https://www.ctas.tennessee.edu/sites/.../2007%20Index%20of%20Acts.pdf', 'pagemap': {'metatags': [{'moddate': \"D:20100802110648-05'00'\", 'creationdate': \"D:20070716093101-05'00'\", 'creator': 'PrintServer130', 'author': 'Libby McCroskey', 'producer': 'Corel PDF Engine Version 11.4.0.100'}]}, 'mime': 'application/pdf', 'fileFormat': 'PDF/Adobe Acrobat'}\n",
      "\n",
      "\n",
      "{'kind': 'customsearch#result', 'title': 'The Cast of a House: An Index of Place', 'htmlTitle': 'The Cast of a House: An <b>Index of</b> Place', 'link': 'https://surface.syr.edu/cgi/viewcontent.cgi?article=2250&context=honors_capstone', 'displayLink': 'surface.syr.edu', 'snippet': 'Aug 26, 2024 ... drawing where drafting with a pencil served the design of an ... ian technical drawings, the rough elements of machinery puncture the\\xa0...', 'htmlSnippet': 'Aug 26, 2024 <b>...</b> <b>drawing</b> where drafting with a pencil served the design of an ... ian <b>technical drawings</b>, the rough elements of machinery puncture the&nbsp;...', 'formattedUrl': 'https://surface.syr.edu/cgi/viewcontent.cgi?article=2250&context...', 'htmlFormattedUrl': 'https://surface.syr.edu/cgi/viewcontent.cgi?article=2250&amp;context...', 'pagemap': {'cse_thumbnail': [{'src': 'https://encrypted-tbn0.gstatic.com/images?q=tbn:ANd9GcRuHU-tQbZ1Ogn723Smogwp7TltXrAtBbztzMNQ5Ie2aARMSlGKMSYOn-I&s', 'width': '221', 'height': '228'}], 'metatags': [{'moddate': \"D:20240826102708-07'00'\", 'creationdate': \"D:20240826102707-07'00'\", 'creator': 'Appligent pdfHarmony 2.0', 'author': 'Noah Fritsch', 'producer': 'Prince 15.2 (www.princexml.com)', 'appligent': 'pdfHarmony 2.0 Linux Kernel 2.6 64bit Mar 13 2012 Library 9.0.1', 'title': 'The Cast of a House: An Index of Place'}], 'cse_image': [{'src': 'x-raw-image:///c454b61745873ebd32182a453ea758e70cc3757b0bf83839072af8988c9a3e32'}]}, 'mime': 'application/pdf', 'fileFormat': 'PDF/Adobe Acrobat'}\n",
      "\n",
      "\n",
      "{'kind': 'customsearch#result', 'title': 'BUILDING INDEX OF SELECTED CHICAGO ARCHITECTURAL ...', 'htmlTitle': 'BUILDING <b>INDEX OF</b> SELECTED CHICAGO ARCHITECTURAL ...', 'link': 'https://artic.contentdm.oclc.org/digital/api/collection/findingaids/id/16290/download', 'displayLink': 'artic.contentdm.oclc.org', 'snippet': 'Aug 22, 2023 ... Symbolic for the residents of the community who had vigorously opposed to UIC campus construction, the house is a link between the\\xa0...', 'htmlSnippet': 'Aug 22, 2023 <b>...</b> Symbolic for the residents of the community who had vigorously opposed to UIC campus construction, the house is a link between the&nbsp;...', 'formattedUrl': 'https://artic.contentdm.oclc.org/digital/api/collection/.../id/.../download', 'htmlFormattedUrl': 'https://artic.contentdm.oclc.org/digital/api/collection/.../id/.../download', 'pagemap': {'metatags': [{'moddate': \"D:20170110213711Z00'00'\", 'creator': 'Excel', 'creationdate': \"D:20170110213711Z00'00'\", 'author': 'Nathaniel Parks', 'producer': 'Mac OS X 10.11.6 Quartz PDFContext', 'title': 'arch_mono_index-MASTER.xls'}]}, 'mime': 'application/pdf', 'fileFormat': 'PDF/Adobe Acrobat'}\n",
      "\n",
      "\n",
      "{'kind': 'customsearch#result', 'title': 'Index of Walter D. Edmonds Materials, Walter D. Edmonds Room ...', 'htmlTitle': '<b>Index of</b> Walter D. Edmonds Materials, Walter D. Edmonds Room ...', 'link': 'https://www.utica.edu/academic/library/EdmondsPapers.pdf', 'displayLink': 'www.utica.edu', 'snippet': 'May 9, 2012 ... Blue Cross Blue Shield. Medicare. B26, F9. Bock, William Sauts. B1 ... Blueprints for house in Concord MA (8). 11. Membership scroll for WDE\\xa0...', 'htmlSnippet': 'May 9, 2012 <b>...</b> <b>Blue</b> Cross <b>Blue</b> Shield. Medicare. B26, F9. Bock, William Sauts. B1 ... <b>Blueprints</b> for house in Concord MA (8). 11. Membership scroll for WDE&nbsp;...', 'formattedUrl': 'https://www.utica.edu/academic/library/EdmondsPapers.pdf', 'htmlFormattedUrl': 'https://www.utica.edu/academic/library/EdmondsPapers.pdf', 'pagemap': {'cse_thumbnail': [{'src': 'https://encrypted-tbn0.gstatic.com/images?q=tbn:ANd9GcQrbizRU91IWam4KFGoK-KDq6FbBIc7AF2H6CtPMALbMANfkWShaTm8LLgm&s', 'width': '197', 'height': '255'}], 'metatags': [{'moddate': \"D:20120509120600-04'00'\", 'creationdate': \"D:20120509120600-04'00'\", 'creator': 'Microsoft® Word 2010', 'author': 'UTICA COLLEGE', 'producer': 'Microsoft® Word 2010'}], 'cse_image': [{'src': 'x-raw-image:///0226cfa883003d25e431e162cea5dbec23dba84ac442b8cb4feddd2ceb2ccadf'}]}, 'mime': 'application/pdf', 'fileFormat': 'PDF/Adobe Acrobat'}\n",
      "\n",
      "\n",
      "{'kind': 'customsearch#result', 'title': 'Medical Science Orbital Dimensions and Orbital Index Of Adult ...', 'htmlTitle': 'Medical Science Orbital Dimensions and Orbital <b>Index Of</b> Adult ...', 'link': 'https://www.worldwidejournals.com/international-journal-of-scientific-research-(IJSR)/recent_issues_pdf/2016/January/January_2016_1451738799__160.pdf', 'displayLink': 'www.worldwidejournals.com', 'snippet': 'Although the basic structure is determined in accordance with genetically regulated blueprints while in utero, that is modified pre and postnatally through\\xa0...', 'htmlSnippet': 'Although the basic structure is determined in accordance with genetically regulated <b>blueprints</b> while in utero, that is modified pre and postnatally through&nbsp;...', 'formattedUrl': 'https://www.worldwidejournals.com/.../January_2016_1451738799__160....', 'htmlFormattedUrl': 'https://www.worldwidejournals.com/.../January_2016_1451738799__160....', 'pagemap': {'cse_thumbnail': [{'src': 'https://encrypted-tbn0.gstatic.com/images?q=tbn:ANd9GcRwgo1IPCpJP90SZQNqgtJOC_2GXRqwsOc1erOELWTYpr08qyuwqf0GqYk&s', 'width': '299', 'height': '158'}], 'metatags': [{'moddate': \"D:20160102172517+05'30'\", 'creationdate': \"D:20160102172515+05'30'\", 'creator': 'Adobe InDesign CS6 (Windows)', 'producer': 'Adobe PDF Library 10.0.1'}], 'cse_image': [{'src': 'x-raw-image:///c37c38b4ef7d5f097a27748544723d1f299da5b52794873a5084ed892c4e73d4'}]}, 'mime': 'application/pdf', 'fileFormat': 'PDF/Adobe Acrobat'}\n",
      "\n",
      "\n",
      "{'kind': 'customsearch#result', 'title': 'Beside Yingzao: An Index of Chinese Building Traditions', 'htmlTitle': 'Beside Yingzao: An <b>Index of</b> Chinese Building Traditions', 'link': 'https://elischolar.library.yale.edu/cgi/viewcontent.cgi?article=1004&context=envdesign', 'displayLink': 'elischolar.library.yale.edu', 'snippet': 'May 20, 2022 ... The tilted view is usually used in technical drawings and ruled-line painting, which ... blueprints for the work nor plans and elevations\\xa0...', 'htmlSnippet': 'May 20, 2022 <b>...</b> The tilted view is usually used in <b>technical drawings</b> and ruled-line painting, which ... <b>blueprints</b> for the work nor <b>plans</b> and elevations&nbsp;...', 'formattedUrl': 'https://elischolar.library.yale.edu/cgi/viewcontent.cgi?article=1004...', 'htmlFormattedUrl': 'https://elischolar.library.yale.edu/cgi/viewcontent.cgi?article=1004...', 'pagemap': {'cse_thumbnail': [{'src': 'https://encrypted-tbn0.gstatic.com/images?q=tbn:ANd9GcRuHU-tQbZ1Ogn723Smogwp7TltXrAtBbztzMNQ5Ie2aARMSlGKMSYOn-I&s', 'width': '221', 'height': '228'}], 'metatags': [{'moddate': \"D:20220521043507-07'00'\", 'creationdate': \"D:20220521043507-07'00'\", 'creator': 'Appligent AppendPDF Pro 6.3', 'author': 'Tianyi Hang', 'producer': 'Prince 12.5 (www.princexml.com)', 'appligent': 'AppendPDF Pro 6.3 Linux 64 bit Aug 30 2019 Library 15.0.4', 'title': 'Beside Yingzao: An Index of Chinese Building Traditions'}], 'cse_image': [{'src': 'x-raw-image:///c454b61745873ebd32182a453ea758e70cc3757b0bf83839072af8988c9a3e32'}]}, 'mime': 'application/pdf', 'fileFormat': 'PDF/Adobe Acrobat'}\n",
      "\n",
      "\n",
      "{'kind': 'customsearch#result', 'title': 'BIBLIOGRAPHY, SUBJECT INDEX, AND AUTHOR INDEX OF THE ...', 'htmlTitle': 'BIBLIOGRAPHY, SUBJECT INDEX, AND AUTHOR <b>INDEX OF</b> THE ...', 'link': 'https://www.osti.gov/servlets/purl/4712528', 'displayLink': 'www.osti.gov', 'snippet': '... Blueprints of AEC engineering drawings are available from NTIS, U. S. ... Designs for Irradiated Fuel Elements . Two-Dimensional Gamma-Heating Kernel.', 'htmlSnippet': '... <b>Blueprints</b> of AEC engineering drawings are available from NTIS, U. S. ... <b>Designs</b> for Irradiated Fuel Elements . Two-Dimensional Gamma-Heating Kernel.', 'formattedUrl': 'https://www.osti.gov/servlets/purl/4712528', 'htmlFormattedUrl': 'https://www.osti.gov/servlets/purl/4712528', 'pagemap': {'metatags': [{'moddate': \"D:20110609132541+02'00'\", 'creationdate': \"D:20110609083209+02'00'\", 'producer': 'ABBYY FineReader 10'}]}, 'mime': 'application/pdf', 'fileFormat': 'PDF/Adobe Acrobat'}\n",
      "\n",
      "\n"
     ]
    }
   ],
   "source": [
    "query = querys[0]\n",
    "\n",
    "gsearch = GoogleSearch(GOOGLE_API_KEY, GOOGLE_SEARCH_ENGINE_ID)\n",
    "\n",
    "resultados = gsearch.search(query, lang, init_page)\n",
    "\n",
    "for resultado in resultados:\n",
    "    print(resultado)\n",
    "    print(\"\\n\")\n",
    "    "
   ]
  },
  {
   "cell_type": "code",
   "execution_count": null,
   "id": "5081916a",
   "metadata": {},
   "outputs": [],
   "source": []
  }
 ],
 "metadata": {
  "kernelspec": {
   "display_name": "Python 3 (ipykernel)",
   "language": "python",
   "name": "python3"
  },
  "language_info": {
   "codemirror_mode": {
    "name": "ipython",
    "version": 3
   },
   "file_extension": ".py",
   "mimetype": "text/x-python",
   "name": "python",
   "nbconvert_exporter": "python",
   "pygments_lexer": "ipython3",
   "version": "3.11.6"
  }
 },
 "nbformat": 4,
 "nbformat_minor": 5
}
